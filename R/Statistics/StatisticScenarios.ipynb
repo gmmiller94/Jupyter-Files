{
 "cells": [
  {
   "cell_type": "code",
   "execution_count": 1,
   "id": "abbcf2c3-14d5-4f2e-adfe-57d10d75d44a",
   "metadata": {},
   "outputs": [],
   "source": [
    "import numpy as np\n",
    "import pandas as pd\n",
    "import seaborn as sns\n",
    "import scipy\n",
    "from scipy import stats\n",
    "from statsmodels.stats.multicomp import pairwise_tukeyhsd\n",
    "from statsmodels.stats.multicomp import MultiComparison\n",
    "from statsmodels.stats.proportion import proportions_ztest\n",
    "from statsmodels.stats.proportion import proportions_chisquare"
   ]
  },
  {
   "cell_type": "markdown",
   "id": "68cbea06-ea0d-4e71-80fb-1c688513124a",
   "metadata": {},
   "source": [
    "# Scenario 1"
   ]
  },
  {
   "cell_type": "markdown",
   "id": "90e16005-dc7e-407c-b3c2-69789eebac62",
   "metadata": {},
   "source": [
    "##  The insurance company wants Fawn and her associates to run surveillance to determine if the rate of fraud is higher than what the industry normally reports. Specifically, they want to know if the incidence of fraud among claimants is more than 16%\n",
    "\n",
    "### one proportion z test"
   ]
  },
  {
   "cell_type": "code",
   "execution_count": 2,
   "id": "e1513783-566e-4c53-8e7b-b97b16579d2e",
   "metadata": {},
   "outputs": [
    {
     "name": "stdout",
     "output_type": "stream",
     "text": [
      "2.9229268377264077 0.0034675798365736213\n"
     ]
    }
   ],
   "source": [
    "count = 28\n",
    "nobs = 94\n",
    "value = .16\n",
    "stat, pval = proportions_ztest(count, nobs, value)\n",
    "print(stat, pval)"
   ]
  },
  {
   "cell_type": "markdown",
   "id": "c1025956-8f1b-4233-84ac-81d3b123a0d2",
   "metadata": {},
   "source": [
    "#### There is more than 16% of fradulant claims since p value < 0.05"
   ]
  },
  {
   "cell_type": "markdown",
   "id": "668125e5-6211-4d0e-9dd2-4b85bab5a52c",
   "metadata": {},
   "source": [
    "# Scenario 2"
   ]
  },
  {
   "cell_type": "markdown",
   "id": "11eb25bd-44f4-42ec-b883-4b4a9c9c74c5",
   "metadata": {},
   "source": [
    "## Medical researchers are trying to understand if four topical antiseptics are being used in the same ratio at three different clinics in town."
   ]
  },
  {
   "cell_type": "markdown",
   "id": "eb489067-a507-4cc7-a7ed-a904600a75f4",
   "metadata": {},
   "source": [
    "### Independent Chi-Square"
   ]
  },
  {
   "cell_type": "code",
   "execution_count": 4,
   "id": "b242e373-395b-4d5b-a532-85f1469f92d2",
   "metadata": {},
   "outputs": [],
   "source": [
    "antiseptics2 = pd.read_csv(\"C:/Users/georg/Downloads/antiseptics/antiseptics.csv\")\n",
    "antiseptics2.rename(columns={'Antiseptic Type ': \"AS\", \"Number of applications\": \"Count\"}, inplace=True)"
   ]
  },
  {
   "cell_type": "code",
   "execution_count": 6,
   "id": "937798f6-1c51-4be4-ad81-dbaa187a5b6a",
   "metadata": {},
   "outputs": [
    {
     "data": {
      "text/html": [
       "<div>\n",
       "<style scoped>\n",
       "    .dataframe tbody tr th:only-of-type {\n",
       "        vertical-align: middle;\n",
       "    }\n",
       "\n",
       "    .dataframe tbody tr th {\n",
       "        vertical-align: top;\n",
       "    }\n",
       "\n",
       "    .dataframe thead th {\n",
       "        text-align: right;\n",
       "    }\n",
       "</style>\n",
       "<table border=\"1\" class=\"dataframe\">\n",
       "  <thead>\n",
       "    <tr style=\"text-align: right;\">\n",
       "      <th>Clinic</th>\n",
       "      <th>1</th>\n",
       "      <th>2</th>\n",
       "      <th>3</th>\n",
       "    </tr>\n",
       "    <tr>\n",
       "      <th>AS</th>\n",
       "      <th></th>\n",
       "      <th></th>\n",
       "      <th></th>\n",
       "    </tr>\n",
       "  </thead>\n",
       "  <tbody>\n",
       "    <tr>\n",
       "      <th>A</th>\n",
       "      <td>22</td>\n",
       "      <td>38</td>\n",
       "      <td>84</td>\n",
       "    </tr>\n",
       "    <tr>\n",
       "      <th>B</th>\n",
       "      <td>71</td>\n",
       "      <td>112</td>\n",
       "      <td>298</td>\n",
       "    </tr>\n",
       "    <tr>\n",
       "      <th>C</th>\n",
       "      <td>8</td>\n",
       "      <td>14</td>\n",
       "      <td>37</td>\n",
       "    </tr>\n",
       "    <tr>\n",
       "      <th>D</th>\n",
       "      <td>49</td>\n",
       "      <td>69</td>\n",
       "      <td>182</td>\n",
       "    </tr>\n",
       "  </tbody>\n",
       "</table>\n",
       "</div>"
      ],
      "text/plain": [
       "Clinic   1    2    3\n",
       "AS                  \n",
       "A       22   38   84\n",
       "B       71  112  298\n",
       "C        8   14   37\n",
       "D       49   69  182"
      ]
     },
     "execution_count": 6,
     "metadata": {},
     "output_type": "execute_result"
    }
   ],
   "source": [
    "antiseptics2_pivot = pd.pivot_table(antiseptics2,index='AS',columns='Clinic',values=\"Count\")\n",
    "antiseptics2_pivot"
   ]
  },
  {
   "cell_type": "code",
   "execution_count": 7,
   "id": "5f3b1431-549a-4fda-8fcb-542a6b229e3c",
   "metadata": {},
   "outputs": [
    {
     "data": {
      "text/plain": [
       "(1.225920250023835,\n",
       " 0.9755850789571424,\n",
       " 6,\n",
       " array([[ 21.95121951,  34.09756098,  87.95121951],\n",
       "        [ 73.32317073, 113.8953252 , 293.78150407],\n",
       "        [  8.99390244,  13.97052846,  36.03556911],\n",
       "        [ 45.73170732,  71.03658537, 183.23170732]]))"
      ]
     },
     "execution_count": 7,
     "metadata": {},
     "output_type": "execute_result"
    }
   ],
   "source": [
    "stats.chi2_contingency(antiseptics2_pivot)"
   ]
  },
  {
   "cell_type": "markdown",
   "id": "01405fb9-2ffe-44d9-87a7-05cac45c6430",
   "metadata": {},
   "source": [
    "#### There is no difference in use of the four types of antiseptics between the three clinics in town since p value > 0.05."
   ]
  },
  {
   "cell_type": "markdown",
   "id": "ee1bb981-c8c9-4901-b17d-9fc56d708dbf",
   "metadata": {},
   "source": [
    "# Scenario 3"
   ]
  },
  {
   "cell_type": "markdown",
   "id": "8faaa32c-bdcd-468b-bf51-96387586309c",
   "metadata": {},
   "source": [
    "## A financial institution is interested in the savings practices of different demographic groups. They are going to use the results to do some targeted marketing."
   ]
  },
  {
   "cell_type": "markdown",
   "id": "7a5afcc7-85a9-4354-a13f-61e9882e6966",
   "metadata": {},
   "source": [
    "### One-Way ANOVA"
   ]
  },
  {
   "cell_type": "code",
   "execution_count": 8,
   "id": "c5f546ae-61c9-447a-a04b-965fdf3f3dd6",
   "metadata": {},
   "outputs": [
    {
     "data": {
      "text/html": [
       "<div>\n",
       "<style scoped>\n",
       "    .dataframe tbody tr th:only-of-type {\n",
       "        vertical-align: middle;\n",
       "    }\n",
       "\n",
       "    .dataframe tbody tr th {\n",
       "        vertical-align: top;\n",
       "    }\n",
       "\n",
       "    .dataframe thead th {\n",
       "        text-align: right;\n",
       "    }\n",
       "</style>\n",
       "<table border=\"1\" class=\"dataframe\">\n",
       "  <thead>\n",
       "    <tr style=\"text-align: right;\">\n",
       "      <th></th>\n",
       "      <th>Group A</th>\n",
       "      <th>Group B</th>\n",
       "      <th>Group C</th>\n",
       "      <th>Group D</th>\n",
       "    </tr>\n",
       "  </thead>\n",
       "  <tbody>\n",
       "    <tr>\n",
       "      <th>0</th>\n",
       "      <td>21383.06</td>\n",
       "      <td>17077.54</td>\n",
       "      <td>13636.38</td>\n",
       "      <td>14582.73</td>\n",
       "    </tr>\n",
       "    <tr>\n",
       "      <th>1</th>\n",
       "      <td>19729.92</td>\n",
       "      <td>17258.06</td>\n",
       "      <td>5156.36</td>\n",
       "      <td>12880.28</td>\n",
       "    </tr>\n",
       "    <tr>\n",
       "      <th>2</th>\n",
       "      <td>24071.53</td>\n",
       "      <td>20652.91</td>\n",
       "      <td>4446.92</td>\n",
       "      <td>16412.72</td>\n",
       "    </tr>\n",
       "    <tr>\n",
       "      <th>3</th>\n",
       "      <td>19056.28</td>\n",
       "      <td>20845.06</td>\n",
       "      <td>4892.59</td>\n",
       "      <td>14020.00</td>\n",
       "    </tr>\n",
       "    <tr>\n",
       "      <th>4</th>\n",
       "      <td>19147.18</td>\n",
       "      <td>22296.64</td>\n",
       "      <td>14099.38</td>\n",
       "      <td>16467.70</td>\n",
       "    </tr>\n",
       "  </tbody>\n",
       "</table>\n",
       "</div>"
      ],
      "text/plain": [
       "    Group A   Group B   Group C   Group D\n",
       "0  21383.06  17077.54  13636.38  14582.73\n",
       "1  19729.92  17258.06   5156.36  12880.28\n",
       "2  24071.53  20652.91   4446.92  16412.72\n",
       "3  19056.28  20845.06   4892.59  14020.00\n",
       "4  19147.18  22296.64  14099.38  16467.70"
      ]
     },
     "execution_count": 8,
     "metadata": {},
     "output_type": "execute_result"
    }
   ],
   "source": [
    "savings1 = pd.read_csv(\"C:/Users/georg/Downloads/savings/savings.csv\")\n",
    "savings1.head()"
   ]
  },
  {
   "cell_type": "code",
   "execution_count": 21,
   "id": "fd93787b-c2d6-4341-8a8c-92558ffff540",
   "metadata": {},
   "outputs": [
    {
     "data": {
      "text/html": [
       "<div>\n",
       "<style scoped>\n",
       "    .dataframe tbody tr th:only-of-type {\n",
       "        vertical-align: middle;\n",
       "    }\n",
       "\n",
       "    .dataframe tbody tr th {\n",
       "        vertical-align: top;\n",
       "    }\n",
       "\n",
       "    .dataframe thead th {\n",
       "        text-align: right;\n",
       "    }\n",
       "</style>\n",
       "<table border=\"1\" class=\"dataframe\">\n",
       "  <thead>\n",
       "    <tr style=\"text-align: right;\">\n",
       "      <th></th>\n",
       "      <th>Group</th>\n",
       "      <th>Amount</th>\n",
       "    </tr>\n",
       "  </thead>\n",
       "  <tbody>\n",
       "    <tr>\n",
       "      <th>0</th>\n",
       "      <td>Group A</td>\n",
       "      <td>21383.06</td>\n",
       "    </tr>\n",
       "    <tr>\n",
       "      <th>1</th>\n",
       "      <td>Group A</td>\n",
       "      <td>19729.92</td>\n",
       "    </tr>\n",
       "    <tr>\n",
       "      <th>2</th>\n",
       "      <td>Group A</td>\n",
       "      <td>24071.53</td>\n",
       "    </tr>\n",
       "    <tr>\n",
       "      <th>3</th>\n",
       "      <td>Group A</td>\n",
       "      <td>19056.28</td>\n",
       "    </tr>\n",
       "    <tr>\n",
       "      <th>4</th>\n",
       "      <td>Group A</td>\n",
       "      <td>19147.18</td>\n",
       "    </tr>\n",
       "    <tr>\n",
       "      <th>...</th>\n",
       "      <td>...</td>\n",
       "      <td>...</td>\n",
       "    </tr>\n",
       "    <tr>\n",
       "      <th>227</th>\n",
       "      <td>Group D</td>\n",
       "      <td>12180.86</td>\n",
       "    </tr>\n",
       "    <tr>\n",
       "      <th>228</th>\n",
       "      <td>Group D</td>\n",
       "      <td>12972.11</td>\n",
       "    </tr>\n",
       "    <tr>\n",
       "      <th>229</th>\n",
       "      <td>Group D</td>\n",
       "      <td>12068.83</td>\n",
       "    </tr>\n",
       "    <tr>\n",
       "      <th>230</th>\n",
       "      <td>Group D</td>\n",
       "      <td>16064.42</td>\n",
       "    </tr>\n",
       "    <tr>\n",
       "      <th>231</th>\n",
       "      <td>Group D</td>\n",
       "      <td>10884.26</td>\n",
       "    </tr>\n",
       "  </tbody>\n",
       "</table>\n",
       "<p>232 rows × 2 columns</p>\n",
       "</div>"
      ],
      "text/plain": [
       "       Group    Amount\n",
       "0    Group A  21383.06\n",
       "1    Group A  19729.92\n",
       "2    Group A  24071.53\n",
       "3    Group A  19056.28\n",
       "4    Group A  19147.18\n",
       "..       ...       ...\n",
       "227  Group D  12180.86\n",
       "228  Group D  12972.11\n",
       "229  Group D  12068.83\n",
       "230  Group D  16064.42\n",
       "231  Group D  10884.26\n",
       "\n",
       "[232 rows x 2 columns]"
      ]
     },
     "execution_count": 21,
     "metadata": {},
     "output_type": "execute_result"
    }
   ],
   "source": [
    "savings1_expanded=pd.melt(savings1,var_name='Group', value_name='Amount')\n",
    "savings1_expanded"
   ]
  },
  {
   "cell_type": "code",
   "execution_count": 23,
   "id": "a5011049-1213-4dd1-8497-14cbaff41b8a",
   "metadata": {},
   "outputs": [
    {
     "data": {
      "text/html": [
       "<div>\n",
       "<style scoped>\n",
       "    .dataframe tbody tr th:only-of-type {\n",
       "        vertical-align: middle;\n",
       "    }\n",
       "\n",
       "    .dataframe tbody tr th {\n",
       "        vertical-align: top;\n",
       "    }\n",
       "\n",
       "    .dataframe thead th {\n",
       "        text-align: right;\n",
       "    }\n",
       "</style>\n",
       "<table border=\"1\" class=\"dataframe\">\n",
       "  <thead>\n",
       "    <tr style=\"text-align: right;\">\n",
       "      <th></th>\n",
       "      <th>Group</th>\n",
       "      <th>Amount</th>\n",
       "    </tr>\n",
       "  </thead>\n",
       "  <tbody>\n",
       "    <tr>\n",
       "      <th>0</th>\n",
       "      <td>0</td>\n",
       "      <td>21383.06</td>\n",
       "    </tr>\n",
       "    <tr>\n",
       "      <th>1</th>\n",
       "      <td>0</td>\n",
       "      <td>19729.92</td>\n",
       "    </tr>\n",
       "    <tr>\n",
       "      <th>2</th>\n",
       "      <td>0</td>\n",
       "      <td>24071.53</td>\n",
       "    </tr>\n",
       "    <tr>\n",
       "      <th>3</th>\n",
       "      <td>0</td>\n",
       "      <td>19056.28</td>\n",
       "    </tr>\n",
       "    <tr>\n",
       "      <th>4</th>\n",
       "      <td>0</td>\n",
       "      <td>19147.18</td>\n",
       "    </tr>\n",
       "  </tbody>\n",
       "</table>\n",
       "</div>"
      ],
      "text/plain": [
       "   Group    Amount\n",
       "0      0  21383.06\n",
       "1      0  19729.92\n",
       "2      0  24071.53\n",
       "3      0  19056.28\n",
       "4      0  19147.18"
      ]
     },
     "execution_count": 23,
     "metadata": {},
     "output_type": "execute_result"
    }
   ],
   "source": [
    "savings1_expanded = savings1_expanded.replace(savings1.columns, [0,1,2,3])\n",
    "savings1_expanded.head()"
   ]
  },
  {
   "cell_type": "code",
   "execution_count": 24,
   "id": "5ef2acfa-f6e8-4e7b-aab5-6833e548bac2",
   "metadata": {},
   "outputs": [
    {
     "data": {
      "text/plain": [
       "<seaborn.axisgrid.FacetGrid at 0x1ebb69ed040>"
      ]
     },
     "execution_count": 24,
     "metadata": {},
     "output_type": "execute_result"
    },
    {
     "data": {
      "image/png": "[encoded data removed]",
      "text/plain": [
       "<Figure size 360x360 with 1 Axes>"
      ]
     },
     "metadata": {
      "needs_background": "light"
     },
     "output_type": "display_data"
    }
   ],
   "source": [
    "sns.displot(savings1.values[~np.isnan(savings1.values)])"
   ]
  },
  {
   "cell_type": "code",
   "execution_count": 29,
   "id": "e3ccc6ab-b9f2-4f45-be84-4d4bf448c01a",
   "metadata": {},
   "outputs": [
    {
     "data": {
      "text/plain": [
       "BartlettResult(statistic=3639.1753663764925, pvalue=0.0)"
      ]
     },
     "execution_count": 29,
     "metadata": {},
     "output_type": "execute_result"
    }
   ],
   "source": [
    "scipy.stats.bartlett(savings1_expanded['Amount'], savings1_expanded['Group'])"
   ]
  },
  {
   "cell_type": "markdown",
   "id": "ca2e20cf-d5dd-4f19-96c4-e0e4cbbc78ec",
   "metadata": {},
   "source": [
    "#### does not meet assumption, continuing for analysis"
   ]
  },
  {
   "cell_type": "code",
   "execution_count": 31,
   "id": "aa1b0a39-0ffa-4e53-991a-20e37e0a8e34",
   "metadata": {},
   "outputs": [],
   "source": [
    "savings1_expanded.dropna(inplace=True)"
   ]
  },
  {
   "cell_type": "code",
   "execution_count": 40,
   "id": "43c35225-2f23-4312-bb4f-96906b9d1750",
   "metadata": {},
   "outputs": [],
   "source": [
    "savings1_data = savings1_expanded['Amount'][savings1_expanded['Group']==0], savings1_expanded['Amount'][savings1_expanded['Group']==1], savings1_expanded['Amount'][savings1_expanded['Group']==2], savings1_expanded['Amount'][savings1_expanded['Group']==3], savings1_expanded['Amount'][savings1_expanded['Group']==4]"
   ]
  },
  {
   "cell_type": "code",
   "execution_count": 42,
   "id": "dcebddeb-da41-4b68-b4c3-aaa14dd96b63",
   "metadata": {},
   "outputs": [
    {
     "data": {
      "text/plain": [
       "F_onewayResult(statistic=203.25514198903812, pvalue=1.9933595578005075e-61)"
      ]
     },
     "execution_count": 42,
     "metadata": {},
     "output_type": "execute_result"
    }
   ],
   "source": [
    "stats.f_oneway(savings1_expanded['Amount'][savings1_expanded['Group']==0], \n",
    "               savings1_expanded['Amount'][savings1_expanded['Group']==1], \n",
    "               savings1_expanded['Amount'][savings1_expanded['Group']==2], \n",
    "               savings1_expanded['Amount'][savings1_expanded['Group']==3])"
   ]
  },
  {
   "cell_type": "markdown",
   "id": "9b7e04a8-9864-4d7d-aa9f-8e5e2f76e25a",
   "metadata": {},
   "source": [
    "#### These demographic groups are significantly different in their savings practices since p value is < 0.05."
   ]
  },
  {
   "cell_type": "markdown",
   "id": "a0083bcf-9546-4105-ba9b-f77c1a43fa5e",
   "metadata": {},
   "source": [
    "# Scenario 4"
   ]
  },
  {
   "cell_type": "markdown",
   "id": "6f8c36b8-58de-4c91-9519-c611a282d96a",
   "metadata": {},
   "source": [
    "## The local school board conducted a poll to gauge public sentiment about a school bond. They asked respondents if they favored or opposed a bond in the upcoming election. The respondents were asked some demographic questions, too.\n",
    "\n",
    "## Complete a report for grading. The counts for the different groups are as follows:\n",
    "\n",
    " ### With school age children and favorable - 374\n",
    " ### With school age children and unfavorable - 129\n",
    " ### Without school age children and favorable - 171\n",
    " ### Without school age children and unfavorable - 74\n"
   ]
  },
  {
   "cell_type": "markdown",
   "id": "330a2fe8-0f08-458b-a6b0-b2e3335cf4d5",
   "metadata": {},
   "source": [
    "### Two proportion z test"
   ]
  },
  {
   "cell_type": "code",
   "execution_count": 47,
   "id": "69f7253b-6f9b-46a7-8cd1-cf29d1471d7c",
   "metadata": {},
   "outputs": [
    {
     "name": "stdout",
     "output_type": "stream",
     "text": [
      "1.3156546893290748 0.18828996870412507\n"
     ]
    }
   ],
   "source": [
    "count = np.array([374, 171])\n",
    "nobs = np.array([374 + 129, 171 +74])\n",
    "stat, pval = proportions_ztest(count, nobs)\n",
    "print(stat, pval)"
   ]
  },
  {
   "cell_type": "markdown",
   "id": "6e7fe2c0-6deb-4a1b-97a2-66fb7c7b3b5b",
   "metadata": {},
   "source": [
    "#### There is not a significant difference between parents with school aged children and without when favoring bond"
   ]
  },
  {
   "cell_type": "code",
   "execution_count": null,
   "id": "a2fa67e9-c041-4a97-ae7f-5dff856becad",
   "metadata": {},
   "outputs": [],
   "source": []
  }
 ],
 "metadata": {
  "kernelspec": {
   "display_name": "Python 3 (ipykernel)",
   "language": "python",
   "name": "python3"
  },
  "language_info": {
   "codemirror_mode": {
    "name": "ipython",
    "version": 3
   },
   "file_extension": ".py",
   "mimetype": "text/x-python",
   "name": "python",
   "nbconvert_exporter": "python",
   "pygments_lexer": "ipython3",
   "version": "3.9.7"
  }
 },
 "nbformat": 4,
 "nbformat_minor": 5
}
