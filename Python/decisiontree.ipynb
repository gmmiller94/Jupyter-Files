{
 "cells": [
  {
   "cell_type": "code",
   "execution_count": 1,
   "id": "e56b0b2d-bced-4de6-aa8e-8c2e1dc0a83b",
   "metadata": {},
   "outputs": [],
   "source": [
    "import pandas as pd\n",
    "import numpy as np\n",
    "import matplotlib.pyplot as plt\n",
    "import seaborn as sns\n",
    "%matplotlib inline\n",
    "from sklearn.model_selection import train_test_split\n",
    "from sklearn.tree import DecisionTreeClassifier\n",
    "from sklearn.metrics import classification_report, confusion_matrix, accuracy_score"
   ]
  },
  {
   "cell_type": "code",
   "execution_count": 2,
   "id": "4cbbacb0-eb4a-4ba2-8fda-9516f24ccd18",
   "metadata": {},
   "outputs": [],
   "source": [
    "Titanic = sns.load_dataset('titanic')"
   ]
  },
  {
   "cell_type": "code",
   "execution_count": 3,
   "id": "4fe4317a-b73e-44ca-82ea-1cec7bbba033",
   "metadata": {},
   "outputs": [
    {
     "data": {
      "text/html": [
       "<div>\n",
       "<style scoped>\n",
       "    .dataframe tbody tr th:only-of-type {\n",
       "        vertical-align: middle;\n",
       "    }\n",
       "\n",
       "    .dataframe tbody tr th {\n",
       "        vertical-align: top;\n",
       "    }\n",
       "\n",
       "    .dataframe thead th {\n",
       "        text-align: right;\n",
       "    }\n",
       "</style>\n",
       "<table border=\"1\" class=\"dataframe\">\n",
       "  <thead>\n",
       "    <tr style=\"text-align: right;\">\n",
       "      <th></th>\n",
       "      <th>survived</th>\n",
       "      <th>pclass</th>\n",
       "      <th>sex</th>\n",
       "      <th>age</th>\n",
       "      <th>sibsp</th>\n",
       "      <th>parch</th>\n",
       "      <th>fare</th>\n",
       "      <th>embarked</th>\n",
       "      <th>class</th>\n",
       "      <th>who</th>\n",
       "      <th>adult_male</th>\n",
       "      <th>deck</th>\n",
       "      <th>embark_town</th>\n",
       "      <th>alive</th>\n",
       "      <th>alone</th>\n",
       "    </tr>\n",
       "  </thead>\n",
       "  <tbody>\n",
       "    <tr>\n",
       "      <th>0</th>\n",
       "      <td>0</td>\n",
       "      <td>3</td>\n",
       "      <td>male</td>\n",
       "      <td>22.0</td>\n",
       "      <td>1</td>\n",
       "      <td>0</td>\n",
       "      <td>7.2500</td>\n",
       "      <td>S</td>\n",
       "      <td>Third</td>\n",
       "      <td>man</td>\n",
       "      <td>True</td>\n",
       "      <td>NaN</td>\n",
       "      <td>Southampton</td>\n",
       "      <td>no</td>\n",
       "      <td>False</td>\n",
       "    </tr>\n",
       "    <tr>\n",
       "      <th>1</th>\n",
       "      <td>1</td>\n",
       "      <td>1</td>\n",
       "      <td>female</td>\n",
       "      <td>38.0</td>\n",
       "      <td>1</td>\n",
       "      <td>0</td>\n",
       "      <td>71.2833</td>\n",
       "      <td>C</td>\n",
       "      <td>First</td>\n",
       "      <td>woman</td>\n",
       "      <td>False</td>\n",
       "      <td>C</td>\n",
       "      <td>Cherbourg</td>\n",
       "      <td>yes</td>\n",
       "      <td>False</td>\n",
       "    </tr>\n",
       "    <tr>\n",
       "      <th>2</th>\n",
       "      <td>1</td>\n",
       "      <td>3</td>\n",
       "      <td>female</td>\n",
       "      <td>26.0</td>\n",
       "      <td>0</td>\n",
       "      <td>0</td>\n",
       "      <td>7.9250</td>\n",
       "      <td>S</td>\n",
       "      <td>Third</td>\n",
       "      <td>woman</td>\n",
       "      <td>False</td>\n",
       "      <td>NaN</td>\n",
       "      <td>Southampton</td>\n",
       "      <td>yes</td>\n",
       "      <td>True</td>\n",
       "    </tr>\n",
       "    <tr>\n",
       "      <th>3</th>\n",
       "      <td>1</td>\n",
       "      <td>1</td>\n",
       "      <td>female</td>\n",
       "      <td>35.0</td>\n",
       "      <td>1</td>\n",
       "      <td>0</td>\n",
       "      <td>53.1000</td>\n",
       "      <td>S</td>\n",
       "      <td>First</td>\n",
       "      <td>woman</td>\n",
       "      <td>False</td>\n",
       "      <td>C</td>\n",
       "      <td>Southampton</td>\n",
       "      <td>yes</td>\n",
       "      <td>False</td>\n",
       "    </tr>\n",
       "    <tr>\n",
       "      <th>4</th>\n",
       "      <td>0</td>\n",
       "      <td>3</td>\n",
       "      <td>male</td>\n",
       "      <td>35.0</td>\n",
       "      <td>0</td>\n",
       "      <td>0</td>\n",
       "      <td>8.0500</td>\n",
       "      <td>S</td>\n",
       "      <td>Third</td>\n",
       "      <td>man</td>\n",
       "      <td>True</td>\n",
       "      <td>NaN</td>\n",
       "      <td>Southampton</td>\n",
       "      <td>no</td>\n",
       "      <td>True</td>\n",
       "    </tr>\n",
       "  </tbody>\n",
       "</table>\n",
       "</div>"
      ],
      "text/plain": [
       "   survived  pclass     sex   age  sibsp  parch     fare embarked  class  \\\n",
       "0         0       3    male  22.0      1      0   7.2500        S  Third   \n",
       "1         1       1  female  38.0      1      0  71.2833        C  First   \n",
       "2         1       3  female  26.0      0      0   7.9250        S  Third   \n",
       "3         1       1  female  35.0      1      0  53.1000        S  First   \n",
       "4         0       3    male  35.0      0      0   8.0500        S  Third   \n",
       "\n",
       "     who  adult_male deck  embark_town alive  alone  \n",
       "0    man        True  NaN  Southampton    no  False  \n",
       "1  woman       False    C    Cherbourg   yes  False  \n",
       "2  woman       False  NaN  Southampton   yes   True  \n",
       "3  woman       False    C  Southampton   yes  False  \n",
       "4    man        True  NaN  Southampton    no   True  "
      ]
     },
     "execution_count": 3,
     "metadata": {},
     "output_type": "execute_result"
    }
   ],
   "source": [
    "Titanic.head()"
   ]
  },
  {
   "cell_type": "markdown",
   "id": "28c3a433-7bf2-4659-93d9-98a64de605d5",
   "metadata": {},
   "source": [
    "## wrangle data"
   ]
  },
  {
   "cell_type": "code",
   "execution_count": 39,
   "id": "dd7a6c11-c06e-4a26-aa12-26931116f599",
   "metadata": {},
   "outputs": [],
   "source": [
    "def sex (series):\n",
    "    if series == 'male':\n",
    "        return 0\n",
    "    if series == 'female':\n",
    "        return 1\n",
    "Titanic['sex1'] = Titanic['sex'].apply(sex)"
   ]
  },
  {
   "cell_type": "code",
   "execution_count": 41,
   "id": "018b4ee3-7c6a-4b8e-937a-bbc9e5f74c6f",
   "metadata": {},
   "outputs": [],
   "source": [
    "def alive (series):\n",
    "    if series == 'yes':\n",
    "        return 0\n",
    "    if series == 'no':\n",
    "        return 1\n",
    "Titanic['alive1'] = Titanic['alive'].apply(alive)"
   ]
  },
  {
   "cell_type": "code",
   "execution_count": 49,
   "id": "8378eda0-e298-45a7-b801-a4e55dfa2e4f",
   "metadata": {},
   "outputs": [],
   "source": [
    "Titanic.dropna(inplace=True)"
   ]
  },
  {
   "cell_type": "code",
   "execution_count": 50,
   "id": "880a168c-51c2-4662-b1b2-0df5cbc6b76a",
   "metadata": {},
   "outputs": [],
   "source": [
    "Titanic.age = Titanic.age.astype(int)"
   ]
  },
  {
   "cell_type": "code",
   "execution_count": 51,
   "id": "ff2a5a25-8ba0-4927-a4f0-0688d9c7cf04",
   "metadata": {},
   "outputs": [],
   "source": [
    "Titanic1 = Titanic.drop(['alone', 'parch', 'fare', 'embark_town', 'who','adult_male', 'class', 'deck', 'sex', 'embarked','embarked1', 'alive'], axis = 1)"
   ]
  },
  {
   "cell_type": "code",
   "execution_count": 52,
   "id": "8864db01-b7fb-4080-b74c-954da7c65c23",
   "metadata": {},
   "outputs": [
    {
     "name": "stdout",
     "output_type": "stream",
     "text": [
      "<class 'pandas.core.frame.DataFrame'>\n",
      "Int64Index: 180 entries, 1 to 889\n",
      "Data columns (total 6 columns):\n",
      " #   Column    Non-Null Count  Dtype\n",
      "---  ------    --------------  -----\n",
      " 0   survived  180 non-null    int64\n",
      " 1   pclass    180 non-null    int64\n",
      " 2   age       180 non-null    int32\n",
      " 3   sibsp     180 non-null    int64\n",
      " 4   sex1      180 non-null    int64\n",
      " 5   alive1    180 non-null    int64\n",
      "dtypes: int32(1), int64(5)\n",
      "memory usage: 9.1 KB\n"
     ]
    }
   ],
   "source": [
    "Titanic1.info()"
   ]
  },
  {
   "cell_type": "code",
   "execution_count": 53,
   "id": "9e01b205-332b-4726-8e34-631080e1d420",
   "metadata": {},
   "outputs": [],
   "source": [
    "x = Titanic1.drop('survived', axis=1)\n",
    "y = Titanic1['survived']"
   ]
  },
  {
   "cell_type": "markdown",
   "id": "637b325a-ba6a-4c6e-8134-5e437d781d20",
   "metadata": {},
   "source": [
    "## train test split"
   ]
  },
  {
   "cell_type": "code",
   "execution_count": 54,
   "id": "008836bd-d8f9-4e15-96ce-d617b10dd9de",
   "metadata": {},
   "outputs": [],
   "source": [
    "x_train, x_test, y_train, y_test = train_test_split(x,y, test_size=0.3, random_state=76)"
   ]
  },
  {
   "cell_type": "markdown",
   "id": "b12bd348-3a6e-4f74-8e07-6f95e3555bb8",
   "metadata": {},
   "source": [
    "## initial decision tree"
   ]
  },
  {
   "cell_type": "code",
   "execution_count": 55,
   "id": "4fd22548-ac3a-42f4-b6a8-cf4a62671c82",
   "metadata": {},
   "outputs": [
    {
     "data": {
      "text/plain": [
       "DecisionTreeClassifier(random_state=76)"
      ]
     },
     "execution_count": 55,
     "metadata": {},
     "output_type": "execute_result"
    }
   ],
   "source": [
    "decisionTree = DecisionTreeClassifier(random_state=76)\n",
    "decisionTree.fit(x_train, y_train)"
   ]
  },
  {
   "cell_type": "markdown",
   "id": "97f28dd6-346d-44ff-beff-5abaf632ca1b",
   "metadata": {},
   "source": [
    "## assess model"
   ]
  },
  {
   "cell_type": "code",
   "execution_count": 56,
   "id": "fde60a20-a441-422d-af28-90c82d872499",
   "metadata": {},
   "outputs": [],
   "source": [
    "treePredictions = decisionTree.predict(x_test)"
   ]
  },
  {
   "cell_type": "markdown",
   "id": "c0672d07-688a-4997-a203-1729fce61c07",
   "metadata": {},
   "source": [
    "## confusion matrix"
   ]
  },
  {
   "cell_type": "code",
   "execution_count": 57,
   "id": "cd637aca-baba-4134-b0d8-07bed4d41ab7",
   "metadata": {},
   "outputs": [
    {
     "name": "stdout",
     "output_type": "stream",
     "text": [
      "[[22  0]\n",
      " [ 0 32]]\n"
     ]
    }
   ],
   "source": [
    "print(confusion_matrix(y_test, treePredictions))"
   ]
  },
  {
   "cell_type": "markdown",
   "id": "585f2937-5a02-41e1-a99c-755ae7766c0b",
   "metadata": {},
   "source": [
    "## classification report"
   ]
  },
  {
   "cell_type": "code",
   "execution_count": 58,
   "id": "2a4c47e8-74ce-415e-aad0-8ebcd848e8ca",
   "metadata": {},
   "outputs": [
    {
     "name": "stdout",
     "output_type": "stream",
     "text": [
      "              precision    recall  f1-score   support\n",
      "\n",
      "           0       1.00      1.00      1.00        22\n",
      "           1       1.00      1.00      1.00        32\n",
      "\n",
      "    accuracy                           1.00        54\n",
      "   macro avg       1.00      1.00      1.00        54\n",
      "weighted avg       1.00      1.00      1.00        54\n",
      "\n"
     ]
    }
   ],
   "source": [
    "print(classification_report(y_test, treePredictions))"
   ]
  },
  {
   "cell_type": "markdown",
   "id": "df62e8fd-024b-4ecc-b7dd-6ab8b81fe4db",
   "metadata": {},
   "source": [
    "# PART 2"
   ]
  },
  {
   "cell_type": "code",
   "execution_count": 45,
   "id": "e11bf1b9-7427-4356-be14-2d17edf9f537",
   "metadata": {},
   "outputs": [],
   "source": [
    "import pandas as pd\n",
    "import numpy as np\n",
    "import matplotlib.pyplot as plt\n",
    "import seaborn as sns\n",
    "%matplotlib inline\n",
    "from sklearn.ensemble import RandomForestClassifier\n",
    "from sklearn.model_selection import train_test_split\n",
    "from sklearn.metrics import classification_report, confusion_matrix"
   ]
  },
  {
   "cell_type": "markdown",
   "id": "2deab3d7-381d-40b7-829e-c6940623b590",
   "metadata": {},
   "source": [
    "## wrangle data"
   ]
  },
  {
   "cell_type": "code",
   "execution_count": 59,
   "id": "360f58f0-54c9-4f1d-b2f8-d3b5aff04d4c",
   "metadata": {},
   "outputs": [],
   "source": [
    "def sex (series):\n",
    "\n",
    "    if series == 'male':\n",
    "\n",
    "        return 0\n",
    "\n",
    "    if series == 'female':\n",
    "\n",
    "        return 1\n",
    "\n",
    "Titanic['sex1'] = Titanic['sex'].apply(sex)\n",
    "\n",
    "def alive (series):\n",
    "\n",
    "    if series == 'yes':\n",
    "\n",
    "        return 0\n",
    "\n",
    "    if series == 'no':\n",
    "\n",
    "        return 1\n",
    "\n",
    "Titanic['alive1'] = Titanic['alive'].apply(alive)"
   ]
  },
  {
   "cell_type": "code",
   "execution_count": 59,
   "id": "ff52b63b-166d-4aa5-b6da-edc18de17aeb",
   "metadata": {},
   "outputs": [],
   "source": [
    "Titanic.dropna(inplace=True)"
   ]
  },
  {
   "cell_type": "code",
   "execution_count": 59,
   "id": "39535fa1-80f6-42a9-9981-095bb92857e0",
   "metadata": {},
   "outputs": [],
   "source": [
    "Titanic.age = Titanic.age.astype(int)"
   ]
  },
  {
   "cell_type": "code",
   "execution_count": 59,
   "id": "6042c71d-8ec5-4bae-9fe1-1387e531a667",
   "metadata": {},
   "outputs": [
    {
     "name": "stdout",
     "output_type": "stream",
     "text": [
      "<class 'pandas.core.frame.DataFrame'>\n",
      "Int64Index: 180 entries, 1 to 889\n",
      "Data columns (total 6 columns):\n",
      " #   Column    Non-Null Count  Dtype\n",
      "---  ------    --------------  -----\n",
      " 0   survived  180 non-null    int64\n",
      " 1   pclass    180 non-null    int64\n",
      " 2   age       180 non-null    int32\n",
      " 3   sibsp     180 non-null    int64\n",
      " 4   sex1      180 non-null    int64\n",
      " 5   alive1    180 non-null    int64\n",
      "dtypes: int32(1), int64(5)\n",
      "memory usage: 9.1 KB\n"
     ]
    }
   ],
   "source": [
    "Titanic1 = Titanic.drop(['alone', 'parch', 'fare', 'embark_town', 'who','adult_male', 'class', 'deck', 'sex', 'embarked','embarked1', 'alive'], axis = 1)\n",
    "\n",
    "Titanic1.info()"
   ]
  },
  {
   "cell_type": "code",
   "execution_count": 60,
   "id": "ecd1b74b-15a8-4f0e-90ca-9e980685455e",
   "metadata": {},
   "outputs": [],
   "source": [
    "x = Titanic1.drop('survived', axis=1)\n",
    "y = Titanic1['survived']"
   ]
  },
  {
   "cell_type": "markdown",
   "id": "f3e3866e-880c-43ee-8487-aef923b62114",
   "metadata": {},
   "source": [
    "## Train test split"
   ]
  },
  {
   "cell_type": "code",
   "execution_count": 61,
   "id": "ce70f707-bde5-4c6d-adbb-4e212cec5b33",
   "metadata": {},
   "outputs": [],
   "source": [
    "x_train, x_test, y_train, y_test = train_test_split(x,y, test_size=0.3, random_state=76)"
   ]
  },
  {
   "cell_type": "markdown",
   "id": "8d8c5956-6127-45bf-8eb3-b7fa77b77e65",
   "metadata": {},
   "source": [
    "## forest model"
   ]
  },
  {
   "cell_type": "code",
   "execution_count": 62,
   "id": "cdd3e417-02c9-4269-8754-123b663eeeeb",
   "metadata": {},
   "outputs": [
    {
     "data": {
      "text/plain": [
       "RandomForestClassifier(n_estimators=500, random_state=76)"
      ]
     },
     "execution_count": 62,
     "metadata": {},
     "output_type": "execute_result"
    }
   ],
   "source": [
    "forest = RandomForestClassifier(n_estimators=500, random_state=76)\n",
    "forest.fit(x_train, y_train)"
   ]
  },
  {
   "cell_type": "markdown",
   "id": "f71ec7eb-a031-41db-8c71-f387d9282323",
   "metadata": {},
   "source": [
    "## evaluate"
   ]
  },
  {
   "cell_type": "code",
   "execution_count": 63,
   "id": "850d7c40-697e-4998-b3ee-02c7c89c8347",
   "metadata": {},
   "outputs": [
    {
     "name": "stdout",
     "output_type": "stream",
     "text": [
      "[[22  0]\n",
      " [ 0 32]]\n",
      "              precision    recall  f1-score   support\n",
      "\n",
      "           0       1.00      1.00      1.00        22\n",
      "           1       1.00      1.00      1.00        32\n",
      "\n",
      "    accuracy                           1.00        54\n",
      "   macro avg       1.00      1.00      1.00        54\n",
      "weighted avg       1.00      1.00      1.00        54\n",
      "\n"
     ]
    }
   ],
   "source": [
    "forestPredictions = forest.predict(x_test)\n",
    "print(confusion_matrix(y_test, forestPredictions))\n",
    "print(classification_report(y_test, forestPredictions))"
   ]
  },
  {
   "cell_type": "markdown",
   "id": "dac4274b-7e4d-4331-88c1-00108b005139",
   "metadata": {},
   "source": [
    "#### both trees have the same outcome for accuracy"
   ]
  }
 ],
 "metadata": {
  "kernelspec": {
   "display_name": "Python 3 (ipykernel)",
   "language": "python",
   "name": "python3"
  },
  "language_info": {
   "codemirror_mode": {
    "name": "ipython",
    "version": 3
   },
   "file_extension": ".py",
   "mimetype": "text/x-python",
   "name": "python",
   "nbconvert_exporter": "python",
   "pygments_lexer": "ipython3",
   "version": "3.9.7"
  }
 },
 "nbformat": 4,
 "nbformat_minor": 5
}
