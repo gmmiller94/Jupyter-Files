{
 "cells": [
  {
   "cell_type": "code",
   "execution_count": 24,
   "id": "b1198de8-561a-4572-adde-02a463c71802",
   "metadata": {},
   "outputs": [],
   "source": [
    "import pandas as pd\n",
    "\n",
    "airbnb_test_users = pd.read_csv(r\"C:\\Users\\georg\\Downloads\\airbnb_test_users\\airbnb_test_users.csv\")\n",
    "airbnb_sample_submission = pd.read_csv(r\"C:\\Users\\georg\\Downloads\\airbnb_sample_submission\\airbnb_sample_submission.csv\")\n",
    "airbnb_users = pd.read_csv(r\"C:\\Users\\georg\\Downloads\\airbnb_users\\airbnb_users.csv\")"
   ]
  },
  {
   "cell_type": "code",
   "execution_count": 9,
   "id": "d122624d-37b6-4b54-9fb7-878966d3591c",
   "metadata": {
    "tags": []
   },
   "outputs": [
    {
     "data": {
      "text/plain": [
       "first_browser\n",
       "-unknown-             41.526894\n",
       "AOL Explorer          60.000000\n",
       "Android Browser       42.822148\n",
       "Apple Mail            26.750000\n",
       "BlackBerry Browser    34.600000\n",
       "Chrome                34.591678\n",
       "Chrome Mobile         45.199058\n",
       "Chromium              28.833333\n",
       "CometBird             30.000000\n",
       "Firefox               37.748143\n",
       "IBrowse               51.000000\n",
       "IE                    42.463107\n",
       "IE Mobile             32.312500\n",
       "IceWeasel             18.000000\n",
       "Iron                  35.200000\n",
       "Maxthon               31.000000\n",
       "Mobile Firefox        31.800000\n",
       "Mobile Safari         35.098486\n",
       "Nintendo Browser            NaN\n",
       "Opera                 38.444444\n",
       "Opera Mini                  NaN\n",
       "Opera Mobile          37.000000\n",
       "Pale Moon             37.000000\n",
       "Safari                36.416121\n",
       "SeaMonkey                   NaN\n",
       "Silk                  38.120000\n",
       "SiteKiosk             57.000000\n",
       "Sogou Explorer        28.000000\n",
       "UC Browser            28.000000\n",
       "Yandex.Browser        38.500000\n",
       "wOSBrowser                  NaN\n",
       "Name: age, dtype: float64"
      ]
     },
     "execution_count": 9,
     "metadata": {},
     "output_type": "execute_result"
    }
   ],
   "source": [
    "#What is the average age of those who use each web browser type?\n",
    "airbnb_test_users.groupby('first_browser')['age'].mean()"
   ]
  },
  {
   "cell_type": "code",
   "execution_count": 10,
   "id": "158078f4-ab6c-48df-b734-8a83fed08f68",
   "metadata": {
    "tags": []
   },
   "outputs": [
    {
     "data": {
      "text/plain": [
       "first_device_type\n",
       "Android Phone          90521\n",
       "Android Tablet          5969\n",
       "Desktop (Other)           50\n",
       "Mac Desktop             5736\n",
       "Other/Unknown           4826\n",
       "SmartPhone (Other)         0\n",
       "Windows Desktop         3866\n",
       "iPad                   28900\n",
       "iPhone                345343\n",
       "Name: signup_flow, dtype: int64"
      ]
     },
     "execution_count": 10,
     "metadata": {},
     "output_type": "execute_result"
    }
   ],
   "source": [
    "#What is the total signup_flow for each device?\n",
    "airbnb_test_users.groupby('first_device_type')['signup_flow'].sum()"
   ]
  },
  {
   "cell_type": "code",
   "execution_count": 17,
   "id": "b51bf273-14c7-4cd2-a30b-4db307ddcf80",
   "metadata": {},
   "outputs": [],
   "source": [
    "#They need the country information from airbnb_sample_submissions dataset included in the airbnb_test_users file\n",
    "airbnb = pd.merge(airbnb_test_users, airbnb_sample_submission)"
   ]
  },
  {
   "cell_type": "code",
   "execution_count": 23,
   "id": "c6ff1f38-e980-4929-9ef5-2a136b7982fc",
   "metadata": {},
   "outputs": [],
   "source": [
    "#Add additional users to the test file from airbnb_users dataset\n",
    "airbnb.rename(columns={'country' : 'country_destination'}, inplace=True)\n",
    "airbnb2 = pd.merge(airbnb_test_users, airbnb)\n",
    "airbnb2.head()"
   ]
  },
  {
   "cell_type": "code",
   "execution_count": null,
   "id": "dc6431d2-2a2b-489a-8b5a-fd8bba0d0c6f",
   "metadata": {},
   "outputs": [],
   "source": []
  }
 ],
 "metadata": {
  "kernelspec": {
   "display_name": "Python 3 (ipykernel)",
   "language": "python",
   "name": "python3"
  },
  "language_info": {
   "codemirror_mode": {
    "name": "ipython",
    "version": 3
   },
   "file_extension": ".py",
   "mimetype": "text/x-python",
   "name": "python",
   "nbconvert_exporter": "python",
   "pygments_lexer": "ipython3",
   "version": "3.9.7"
  }
 },
 "nbformat": 4,
 "nbformat_minor": 5
}
