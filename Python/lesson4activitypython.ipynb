{
 "cells": [
  {
   "cell_type": "code",
   "execution_count": 11,
   "id": "8f384b3e-9cbd-453d-88c2-08569beac291",
   "metadata": {},
   "outputs": [],
   "source": [
    "import pandas as pd\n",
    "import numpy as np\n",
    "import seaborn as sns\n",
    "import scipy\n",
    "from scipy import stats\n",
    "from statsmodels.stats.multicomp import pairwise_tukeyhsd\n",
    "from statsmodels.stats.multicomp import MultiComparison"
   ]
  },
  {
   "cell_type": "code",
   "execution_count": 2,
   "id": "0e4ac5f8-f9ae-4f67-99d8-d982c471300a",
   "metadata": {},
   "outputs": [],
   "source": [
    "youtube = pd.read_csv(\"C:/Users/georg/Downloads/YouTubeChannels_Python/YouTubeChannels_Python.csv\")"
   ]
  },
  {
   "cell_type": "code",
   "execution_count": 3,
   "id": "9b737380-2683-4095-9895-d5ae2e6e4e78",
   "metadata": {},
   "outputs": [
    {
     "data": {
      "text/html": [
       "<div>\n",
       "<style scoped>\n",
       "    .dataframe tbody tr th:only-of-type {\n",
       "        vertical-align: middle;\n",
       "    }\n",
       "\n",
       "    .dataframe tbody tr th {\n",
       "        vertical-align: top;\n",
       "    }\n",
       "\n",
       "    .dataframe thead th {\n",
       "        text-align: right;\n",
       "    }\n",
       "</style>\n",
       "<table border=\"1\" class=\"dataframe\">\n",
       "  <thead>\n",
       "    <tr style=\"text-align: right;\">\n",
       "      <th></th>\n",
       "      <th>Rank</th>\n",
       "      <th>Gr2de</th>\n",
       "      <th>Channel name</th>\n",
       "      <th>Video Uploads</th>\n",
       "      <th>Subscribers</th>\n",
       "      <th>Video views</th>\n",
       "    </tr>\n",
       "  </thead>\n",
       "  <tbody>\n",
       "    <tr>\n",
       "      <th>0</th>\n",
       "      <td>1st</td>\n",
       "      <td>0</td>\n",
       "      <td>Zee TV</td>\n",
       "      <td>82757</td>\n",
       "      <td>18752951</td>\n",
       "      <td>20869786591</td>\n",
       "    </tr>\n",
       "    <tr>\n",
       "      <th>1</th>\n",
       "      <td>2nd</td>\n",
       "      <td>0</td>\n",
       "      <td>T-Series</td>\n",
       "      <td>12661</td>\n",
       "      <td>61196302</td>\n",
       "      <td>47548839843</td>\n",
       "    </tr>\n",
       "    <tr>\n",
       "      <th>2</th>\n",
       "      <td>3rd</td>\n",
       "      <td>0</td>\n",
       "      <td>Cocomelon - Nursery Rhymes</td>\n",
       "      <td>373</td>\n",
       "      <td>19238251</td>\n",
       "      <td>9793305082</td>\n",
       "    </tr>\n",
       "    <tr>\n",
       "      <th>3</th>\n",
       "      <td>4th</td>\n",
       "      <td>0</td>\n",
       "      <td>SET India</td>\n",
       "      <td>27323</td>\n",
       "      <td>31180559</td>\n",
       "      <td>22675948293</td>\n",
       "    </tr>\n",
       "    <tr>\n",
       "      <th>4</th>\n",
       "      <td>5th</td>\n",
       "      <td>0</td>\n",
       "      <td>WWE</td>\n",
       "      <td>36756</td>\n",
       "      <td>32852346</td>\n",
       "      <td>26273668433</td>\n",
       "    </tr>\n",
       "  </tbody>\n",
       "</table>\n",
       "</div>"
      ],
      "text/plain": [
       "  Rank  Gr2de                Channel name Video Uploads Subscribers  \\\n",
       "0  1st      0                      Zee TV         82757    18752951   \n",
       "1  2nd      0                    T-Series         12661    61196302   \n",
       "2  3rd      0  Cocomelon - Nursery Rhymes           373    19238251   \n",
       "3  4th      0                   SET India         27323    31180559   \n",
       "4  5th      0                         WWE         36756    32852346   \n",
       "\n",
       "   Video views  \n",
       "0  20869786591  \n",
       "1  47548839843  \n",
       "2   9793305082  \n",
       "3  22675948293  \n",
       "4  26273668433  "
      ]
     },
     "execution_count": 3,
     "metadata": {},
     "output_type": "execute_result"
    }
   ],
   "source": [
    "youtube.head()"
   ]
  },
  {
   "cell_type": "code",
   "execution_count": 5,
   "id": "5afb3a57-5293-4385-be39-bb69bd0edeb6",
   "metadata": {},
   "outputs": [],
   "source": [
    "#Interested variables\n",
    "youtube1 = youtube[['Gr2de', 'Video views']]"
   ]
  },
  {
   "cell_type": "code",
   "execution_count": 6,
   "id": "75deb0a8-901f-43c8-a269-6b9abd69e970",
   "metadata": {},
   "outputs": [
    {
     "data": {
      "text/html": [
       "<div>\n",
       "<style scoped>\n",
       "    .dataframe tbody tr th:only-of-type {\n",
       "        vertical-align: middle;\n",
       "    }\n",
       "\n",
       "    .dataframe tbody tr th {\n",
       "        vertical-align: top;\n",
       "    }\n",
       "\n",
       "    .dataframe thead th {\n",
       "        text-align: right;\n",
       "    }\n",
       "</style>\n",
       "<table border=\"1\" class=\"dataframe\">\n",
       "  <thead>\n",
       "    <tr style=\"text-align: right;\">\n",
       "      <th></th>\n",
       "      <th>Gr2de</th>\n",
       "      <th>Video views</th>\n",
       "    </tr>\n",
       "  </thead>\n",
       "  <tbody>\n",
       "    <tr>\n",
       "      <th>0</th>\n",
       "      <td>0</td>\n",
       "      <td>20869786591</td>\n",
       "    </tr>\n",
       "    <tr>\n",
       "      <th>1</th>\n",
       "      <td>0</td>\n",
       "      <td>47548839843</td>\n",
       "    </tr>\n",
       "    <tr>\n",
       "      <th>2</th>\n",
       "      <td>0</td>\n",
       "      <td>9793305082</td>\n",
       "    </tr>\n",
       "    <tr>\n",
       "      <th>3</th>\n",
       "      <td>0</td>\n",
       "      <td>22675948293</td>\n",
       "    </tr>\n",
       "    <tr>\n",
       "      <th>4</th>\n",
       "      <td>0</td>\n",
       "      <td>26273668433</td>\n",
       "    </tr>\n",
       "  </tbody>\n",
       "</table>\n",
       "</div>"
      ],
      "text/plain": [
       "   Gr2de  Video views\n",
       "0      0  20869786591\n",
       "1      0  47548839843\n",
       "2      0   9793305082\n",
       "3      0  22675948293\n",
       "4      0  26273668433"
      ]
     },
     "execution_count": 6,
     "metadata": {},
     "output_type": "execute_result"
    }
   ],
   "source": [
    "youtube1.head()"
   ]
  },
  {
   "cell_type": "code",
   "execution_count": 7,
   "id": "69e8cd52-777d-49a0-9bcb-b2c91e2a9f44",
   "metadata": {},
   "outputs": [
    {
     "name": "stdout",
     "output_type": "stream",
     "text": [
      "<class 'pandas.core.frame.DataFrame'>\n",
      "RangeIndex: 5000 entries, 0 to 4999\n",
      "Data columns (total 2 columns):\n",
      " #   Column       Non-Null Count  Dtype\n",
      "---  ------       --------------  -----\n",
      " 0   Gr2de        5000 non-null   int64\n",
      " 1   Video views  5000 non-null   int64\n",
      "dtypes: int64(2)\n",
      "memory usage: 78.2 KB\n"
     ]
    }
   ],
   "source": [
    "#check for integer\n",
    "youtube1.info()"
   ]
  },
  {
   "cell_type": "code",
   "execution_count": 8,
   "id": "06826ade-0c2c-4568-bb0a-6a69dd28aea5",
   "metadata": {},
   "outputs": [
    {
     "name": "stderr",
     "output_type": "stream",
     "text": [
      "C:\\Users\\georg\\AppData\\Local\\Temp/ipykernel_13516/1644425444.py:12: SettingWithCopyWarning: \n",
      "A value is trying to be set on a copy of a slice from a DataFrame.\n",
      "Try using .loc[row_indexer,col_indexer] = value instead\n",
      "\n",
      "See the caveats in the documentation: https://pandas.pydata.org/pandas-docs/stable/user_guide/indexing.html#returning-a-view-versus-a-copy\n",
      "  youtube1['GradeR'] = youtube1['Gr2de'].apply(recode)\n"
     ]
    }
   ],
   "source": [
    "#Change grade to a letter for ANOVA specs\n",
    "def recode (series): \n",
    "    if series == 0: \n",
    "        return \"A plus plus\"\n",
    "    if series == 1: \n",
    "        return \"A plus\"\n",
    "    if series == 2: \n",
    "        return \"A\"\n",
    "    if series == 3:\n",
    "        return \"B plus\"\n",
    "\n",
    "youtube1['GradeR'] = youtube1['Gr2de'].apply(recode)"
   ]
  },
  {
   "cell_type": "code",
   "execution_count": 9,
   "id": "69e41a6c-0078-4a33-8256-12df81adae93",
   "metadata": {},
   "outputs": [
    {
     "data": {
      "text/html": [
       "<div>\n",
       "<style scoped>\n",
       "    .dataframe tbody tr th:only-of-type {\n",
       "        vertical-align: middle;\n",
       "    }\n",
       "\n",
       "    .dataframe tbody tr th {\n",
       "        vertical-align: top;\n",
       "    }\n",
       "\n",
       "    .dataframe thead th {\n",
       "        text-align: right;\n",
       "    }\n",
       "</style>\n",
       "<table border=\"1\" class=\"dataframe\">\n",
       "  <thead>\n",
       "    <tr style=\"text-align: right;\">\n",
       "      <th></th>\n",
       "      <th>Gr2de</th>\n",
       "      <th>Video views</th>\n",
       "      <th>GradeR</th>\n",
       "    </tr>\n",
       "  </thead>\n",
       "  <tbody>\n",
       "    <tr>\n",
       "      <th>0</th>\n",
       "      <td>0</td>\n",
       "      <td>20869786591</td>\n",
       "      <td>A plus plus</td>\n",
       "    </tr>\n",
       "    <tr>\n",
       "      <th>1</th>\n",
       "      <td>0</td>\n",
       "      <td>47548839843</td>\n",
       "      <td>A plus plus</td>\n",
       "    </tr>\n",
       "    <tr>\n",
       "      <th>2</th>\n",
       "      <td>0</td>\n",
       "      <td>9793305082</td>\n",
       "      <td>A plus plus</td>\n",
       "    </tr>\n",
       "    <tr>\n",
       "      <th>3</th>\n",
       "      <td>0</td>\n",
       "      <td>22675948293</td>\n",
       "      <td>A plus plus</td>\n",
       "    </tr>\n",
       "    <tr>\n",
       "      <th>4</th>\n",
       "      <td>0</td>\n",
       "      <td>26273668433</td>\n",
       "      <td>A plus plus</td>\n",
       "    </tr>\n",
       "  </tbody>\n",
       "</table>\n",
       "</div>"
      ],
      "text/plain": [
       "   Gr2de  Video views       GradeR\n",
       "0      0  20869786591  A plus plus\n",
       "1      0  47548839843  A plus plus\n",
       "2      0   9793305082  A plus plus\n",
       "3      0  22675948293  A plus plus\n",
       "4      0  26273668433  A plus plus"
      ]
     },
     "execution_count": 9,
     "metadata": {},
     "output_type": "execute_result"
    }
   ],
   "source": [
    "youtube1.head()"
   ]
  },
  {
   "cell_type": "code",
   "execution_count": 13,
   "id": "ef69d28b-16a7-4672-8a24-6df8a3099539",
   "metadata": {},
   "outputs": [
    {
     "data": {
      "text/plain": [
       "<seaborn.axisgrid.FacetGrid at 0x1c7f48cfa60>"
      ]
     },
     "execution_count": 13,
     "metadata": {},
     "output_type": "execute_result"
    },
    {
     "data": {
      "image/png": "[encoded data removed]",
      "text/plain": [
       "<Figure size 360x360 with 1 Axes>"
      ]
     },
     "metadata": {
      "needs_background": "light"
     },
     "output_type": "display_data"
    }
   ],
   "source": [
    "# Test for all assumptions and correct for them if possible\n",
    "\n",
    "sns.displot(youtube1['Video views'])"
   ]
  },
  {
   "cell_type": "code",
   "execution_count": 14,
   "id": "f0bfb435-058c-4033-b770-83e694428b6a",
   "metadata": {},
   "outputs": [
    {
     "name": "stderr",
     "output_type": "stream",
     "text": [
      "C:\\Users\\georg\\AppData\\Local\\Temp/ipykernel_13516/3440086829.py:3: SettingWithCopyWarning: \n",
      "A value is trying to be set on a copy of a slice from a DataFrame.\n",
      "Try using .loc[row_indexer,col_indexer] = value instead\n",
      "\n",
      "See the caveats in the documentation: https://pandas.pydata.org/pandas-docs/stable/user_guide/indexing.html#returning-a-view-versus-a-copy\n",
      "  youtube1['VideoViewsSQRT'] = np.sqrt(youtube1['Video views'])\n"
     ]
    }
   ],
   "source": [
    "#postively skewed\n",
    "\n",
    "youtube1['VideoViewsSQRT'] = np.sqrt(youtube1['Video views'])"
   ]
  },
  {
   "cell_type": "code",
   "execution_count": 15,
   "id": "b213ceef-3fb4-43b6-a8cd-67338dc2985b",
   "metadata": {},
   "outputs": [
    {
     "name": "stderr",
     "output_type": "stream",
     "text": [
      "C:\\Users\\georg\\anaconda3\\lib\\site-packages\\seaborn\\distributions.py:2619: FutureWarning: `distplot` is a deprecated function and will be removed in a future version. Please adapt your code to use either `displot` (a figure-level function with similar flexibility) or `histplot` (an axes-level function for histograms).\n",
      "  warnings.warn(msg, FutureWarning)\n"
     ]
    },
    {
     "data": {
      "text/plain": [
       "<AxesSubplot:xlabel='VideoViewsSQRT', ylabel='Density'>"
      ]
     },
     "execution_count": 15,
     "metadata": {},
     "output_type": "execute_result"
    },
    {
     "data": {
      "image/png": "[encoded data removed]",
      "text/plain": [
       "<Figure size 432x288 with 1 Axes>"
      ]
     },
     "metadata": {
      "needs_background": "light"
     },
     "output_type": "display_data"
    }
   ],
   "source": [
    "sns.distplot(youtube1['VideoViewsSQRT'])"
   ]
  },
  {
   "cell_type": "code",
   "execution_count": 16,
   "id": "e0540162-87fa-44c4-bce5-9e0780fe618e",
   "metadata": {},
   "outputs": [
    {
     "name": "stderr",
     "output_type": "stream",
     "text": [
      "C:\\Users\\georg\\AppData\\Local\\Temp/ipykernel_13516/33976722.py:1: SettingWithCopyWarning: \n",
      "A value is trying to be set on a copy of a slice from a DataFrame.\n",
      "Try using .loc[row_indexer,col_indexer] = value instead\n",
      "\n",
      "See the caveats in the documentation: https://pandas.pydata.org/pandas-docs/stable/user_guide/indexing.html#returning-a-view-versus-a-copy\n",
      "  youtube1['VideoViewsLOG'] = np.log(youtube1['Video views'])\n"
     ]
    }
   ],
   "source": [
    "youtube1['VideoViewsLOG'] = np.log(youtube1['Video views'])"
   ]
  },
  {
   "cell_type": "code",
   "execution_count": 17,
   "id": "f2cd0268-cb53-4348-ac68-dda5ba8d4398",
   "metadata": {},
   "outputs": [
    {
     "name": "stderr",
     "output_type": "stream",
     "text": [
      "C:\\Users\\georg\\anaconda3\\lib\\site-packages\\seaborn\\distributions.py:2619: FutureWarning: `distplot` is a deprecated function and will be removed in a future version. Please adapt your code to use either `displot` (a figure-level function with similar flexibility) or `histplot` (an axes-level function for histograms).\n",
      "  warnings.warn(msg, FutureWarning)\n"
     ]
    },
    {
     "data": {
      "text/plain": [
       "<AxesSubplot:xlabel='VideoViewsLOG', ylabel='Density'>"
      ]
     },
     "execution_count": 17,
     "metadata": {},
     "output_type": "execute_result"
    },
    {
     "data": {
      "image/png": "[encoded data removed]",
      "text/plain": [
       "<Figure size 432x288 with 1 Axes>"
      ]
     },
     "metadata": {
      "needs_background": "light"
     },
     "output_type": "display_data"
    }
   ],
   "source": [
    "sns.distplot(youtube1['VideoViewsLOG'])"
   ]
  },
  {
   "cell_type": "code",
   "execution_count": null,
   "id": "67d0f980-0701-4d5e-b311-9abe1a6042e9",
   "metadata": {},
   "outputs": [],
   "source": [
    "# better, going to use LOG"
   ]
  },
  {
   "cell_type": "code",
   "execution_count": 18,
   "id": "790df301-e76d-4e47-a821-f0e297045149",
   "metadata": {},
   "outputs": [
    {
     "data": {
      "text/plain": [
       "BartlettResult(statistic=4642.606911455061, pvalue=0.0)"
      ]
     },
     "execution_count": 18,
     "metadata": {},
     "output_type": "execute_result"
    }
   ],
   "source": [
    "#Run an ANOVA\n",
    "## Homogeneity of Variance\n",
    "scipy.stats.bartlett(youtube1['VideoViewsLOG'], youtube1['Gr2de'])\n"
   ]
  },
  {
   "cell_type": "code",
   "execution_count": null,
   "id": "e4695588-f004-4f83-8636-04b06097bf5f",
   "metadata": {},
   "outputs": [],
   "source": [
    "#Doesn't meet assumption, variance is unequal"
   ]
  },
  {
   "cell_type": "code",
   "execution_count": 21,
   "id": "439ee47a-8a1e-4f9f-8caf-19278b671b85",
   "metadata": {},
   "outputs": [
    {
     "name": "stderr",
     "output_type": "stream",
     "text": [
      "C:\\Users\\georg\\anaconda3\\lib\\site-packages\\pandas\\util\\_decorators.py:311: SettingWithCopyWarning: \n",
      "A value is trying to be set on a copy of a slice from a DataFrame\n",
      "\n",
      "See the caveats in the documentation: https://pandas.pydata.org/pandas-docs/stable/user_guide/indexing.html#returning-a-view-versus-a-copy\n",
      "  return func(*args, **kwargs)\n"
     ]
    }
   ],
   "source": [
    "#If significant, run an ANOVA\n",
    "youtube1.dropna(inplace=True)"
   ]
  },
  {
   "cell_type": "code",
   "execution_count": 22,
   "id": "a73e5b1d-3440-437d-93d6-935a25311f5e",
   "metadata": {},
   "outputs": [
    {
     "data": {
      "text/plain": [
       "F_onewayResult(statistic=283.85148674568444, pvalue=3.895240835935201e-170)"
      ]
     },
     "execution_count": 22,
     "metadata": {},
     "output_type": "execute_result"
    }
   ],
   "source": [
    "stats.f_oneway(youtube1['VideoViewsLOG'][youtube1['GradeR']=='A plus plus'],\n",
    "                   youtube1['VideoViewsLOG'][youtube1['GradeR']=='A plus'],\n",
    "               youtube1['VideoViewsLOG'][youtube1['GradeR']=='A'],\n",
    "               youtube1['VideoViewsLOG'][youtube1['GradeR']=='B plus'])"
   ]
  },
  {
   "cell_type": "code",
   "execution_count": 23,
   "id": "a3524421-b3fc-47fb-b7c8-078dbf1bf709",
   "metadata": {},
   "outputs": [
    {
     "name": "stdout",
     "output_type": "stream",
     "text": [
      "Multiple Comparison of Means - Tukey HSD, FWER=0.05 \n",
      "====================================================\n",
      "group1 group2 meandiff p-adj   lower   upper  reject\n",
      "----------------------------------------------------\n",
      "     0      1  -1.5233 0.0085   -2.76 -0.2865   True\n",
      "     0      2   -3.103  0.001 -4.2146 -1.9913   True\n",
      "     0      3  -4.1291  0.001 -5.2399 -3.0184   True\n",
      "     1      2  -1.5797  0.001  -2.133 -1.0264   True\n",
      "     1      3  -2.6059  0.001 -3.1573 -2.0544   True\n",
      "     2      3  -1.0262  0.001 -1.1278 -0.9245   True\n",
      "----------------------------------------------------\n"
     ]
    }
   ],
   "source": [
    "postHoc = MultiComparison(youtube1['VideoViewsLOG'], youtube1['Gr2de'])\n",
    "postHocResults = postHoc.tukeyhsd()\n",
    "print(postHocResults)"
   ]
  },
  {
   "cell_type": "code",
   "execution_count": 24,
   "id": "f4dcedb8-ed01-4851-8612-2f408b249437",
   "metadata": {},
   "outputs": [
    {
     "data": {
      "text/html": [
       "<div>\n",
       "<style scoped>\n",
       "    .dataframe tbody tr th:only-of-type {\n",
       "        vertical-align: middle;\n",
       "    }\n",
       "\n",
       "    .dataframe tbody tr th {\n",
       "        vertical-align: top;\n",
       "    }\n",
       "\n",
       "    .dataframe thead th {\n",
       "        text-align: right;\n",
       "    }\n",
       "</style>\n",
       "<table border=\"1\" class=\"dataframe\">\n",
       "  <thead>\n",
       "    <tr style=\"text-align: right;\">\n",
       "      <th></th>\n",
       "      <th>Gr2de</th>\n",
       "      <th>Video views</th>\n",
       "      <th>VideoViewsSQRT</th>\n",
       "      <th>VideoViewsLOG</th>\n",
       "    </tr>\n",
       "    <tr>\n",
       "      <th>GradeR</th>\n",
       "      <th></th>\n",
       "      <th></th>\n",
       "      <th></th>\n",
       "      <th></th>\n",
       "    </tr>\n",
       "  </thead>\n",
       "  <tbody>\n",
       "    <tr>\n",
       "      <th>A</th>\n",
       "      <td>2.0</td>\n",
       "      <td>1.676207e+09</td>\n",
       "      <td>34678.089608</td>\n",
       "      <td>20.475580</td>\n",
       "    </tr>\n",
       "    <tr>\n",
       "      <th>A plus</th>\n",
       "      <td>1.0</td>\n",
       "      <td>6.053121e+09</td>\n",
       "      <td>70951.341638</td>\n",
       "      <td>22.055279</td>\n",
       "    </tr>\n",
       "    <tr>\n",
       "      <th>A plus plus</th>\n",
       "      <td>0.0</td>\n",
       "      <td>2.119909e+10</td>\n",
       "      <td>139631.341341</td>\n",
       "      <td>23.578544</td>\n",
       "    </tr>\n",
       "    <tr>\n",
       "      <th>B plus</th>\n",
       "      <td>3.0</td>\n",
       "      <td>5.265217e+08</td>\n",
       "      <td>19943.101566</td>\n",
       "      <td>19.449400</td>\n",
       "    </tr>\n",
       "  </tbody>\n",
       "</table>\n",
       "</div>"
      ],
      "text/plain": [
       "             Gr2de   Video views  VideoViewsSQRT  VideoViewsLOG\n",
       "GradeR                                                         \n",
       "A              2.0  1.676207e+09    34678.089608      20.475580\n",
       "A plus         1.0  6.053121e+09    70951.341638      22.055279\n",
       "A plus plus    0.0  2.119909e+10   139631.341341      23.578544\n",
       "B plus         3.0  5.265217e+08    19943.101566      19.449400"
      ]
     },
     "execution_count": 24,
     "metadata": {},
     "output_type": "execute_result"
    }
   ],
   "source": [
    "youtube1.groupby('GradeR').mean()"
   ]
  },
  {
   "cell_type": "code",
   "execution_count": null,
   "id": "967724a5-bcb0-4da3-9158-3209a48d9049",
   "metadata": {},
   "outputs": [],
   "source": [
    "The grades are significantly different, and higher ratings seem to get to"
   ]
  }
 ],
 "metadata": {
  "kernelspec": {
   "display_name": "Python 3 (ipykernel)",
   "language": "python",
   "name": "python3"
  },
  "language_info": {
   "codemirror_mode": {
    "name": "ipython",
    "version": 3
   },
   "file_extension": ".py",
   "mimetype": "text/x-python",
   "name": "python",
   "nbconvert_exporter": "python",
   "pygments_lexer": "ipython3",
   "version": "3.9.7"
  }
 },
 "nbformat": 4,
 "nbformat_minor": 5
}
